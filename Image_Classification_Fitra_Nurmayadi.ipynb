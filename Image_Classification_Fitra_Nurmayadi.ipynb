{
  "nbformat": 4,
  "nbformat_minor": 0,
  "metadata": {
    "colab": {
      "provenance": [],
      "collapsed_sections": [
        "Ot-DhYMKx4_Q",
        "0cjI7PR2rHjt",
        "Dl6lsj7LrzuR",
        "Ly3VpOxnr-IU"
      ],
      "authorship_tag": "ABX9TyOeJA+flNzK5cc5A8vUeUAg",
      "include_colab_link": true
    },
    "kernelspec": {
      "name": "python3",
      "display_name": "Python 3"
    },
    "language_info": {
      "name": "python"
    },
    "gpuClass": "standard",
    "accelerator": "GPU"
  },
  "cells": [
    {
      "cell_type": "markdown",
      "metadata": {
        "id": "view-in-github",
        "colab_type": "text"
      },
      "source": [
        "<a href=\"https://colab.research.google.com/github/nurmayadi/stemi-robotika/blob/master/Image_Classification_Fitra_Nurmayadi.ipynb\" target=\"_parent\"><img src=\"https://colab.research.google.com/assets/colab-badge.svg\" alt=\"Open In Colab\"/></a>"
      ]
    },
    {
      "cell_type": "markdown",
      "source": [
        "#Dicoding Submission\n",
        "\n",
        "##Fitra Nurmayadi"
      ],
      "metadata": {
        "id": "n964gNdrj3iV"
      }
    },
    {
      "cell_type": "markdown",
      "source": [
        "Proyek ini adalah untuk mengklasifikasikan jenis hewan, dan menjadikan model ML ke TFLite untuk dapat dipakai pada implementasi di mobile."
      ],
      "metadata": {
        "id": "K6lJtj0xXFp9"
      }
    },
    {
      "cell_type": "code",
      "source": [
        "!pip install -q kaggle"
      ],
      "metadata": {
        "id": "Mf3gFbyKQXRF"
      },
      "execution_count": 2,
      "outputs": []
    },
    {
      "cell_type": "code",
      "source": [
        "from google.colab import files\n",
        "uploaded = files.upload()\n",
        "\n",
        "for fn in uploaded.keys():\n",
        "  print('User uploaded file \"{name}\"'.format(\n",
        "      name=fn))"
      ],
      "metadata": {
        "id": "He9vmv6kRL3J",
        "colab": {
          "base_uri": "https://localhost:8080/",
          "height": 90
        },
        "outputId": "d5ed8a86-db27-4355-f4c3-745d48778858"
      },
      "execution_count": 7,
      "outputs": [
        {
          "output_type": "display_data",
          "data": {
            "text/plain": [
              "<IPython.core.display.HTML object>"
            ],
            "text/html": [
              "\n",
              "     <input type=\"file\" id=\"files-d8b35b00-cb5c-49c8-b68a-959404abf7a5\" name=\"files[]\" multiple disabled\n",
              "        style=\"border:none\" />\n",
              "     <output id=\"result-d8b35b00-cb5c-49c8-b68a-959404abf7a5\">\n",
              "      Upload widget is only available when the cell has been executed in the\n",
              "      current browser session. Please rerun this cell to enable.\n",
              "      </output>\n",
              "      <script>// Copyright 2017 Google LLC\n",
              "//\n",
              "// Licensed under the Apache License, Version 2.0 (the \"License\");\n",
              "// you may not use this file except in compliance with the License.\n",
              "// You may obtain a copy of the License at\n",
              "//\n",
              "//      http://www.apache.org/licenses/LICENSE-2.0\n",
              "//\n",
              "// Unless required by applicable law or agreed to in writing, software\n",
              "// distributed under the License is distributed on an \"AS IS\" BASIS,\n",
              "// WITHOUT WARRANTIES OR CONDITIONS OF ANY KIND, either express or implied.\n",
              "// See the License for the specific language governing permissions and\n",
              "// limitations under the License.\n",
              "\n",
              "/**\n",
              " * @fileoverview Helpers for google.colab Python module.\n",
              " */\n",
              "(function(scope) {\n",
              "function span(text, styleAttributes = {}) {\n",
              "  const element = document.createElement('span');\n",
              "  element.textContent = text;\n",
              "  for (const key of Object.keys(styleAttributes)) {\n",
              "    element.style[key] = styleAttributes[key];\n",
              "  }\n",
              "  return element;\n",
              "}\n",
              "\n",
              "// Max number of bytes which will be uploaded at a time.\n",
              "const MAX_PAYLOAD_SIZE = 100 * 1024;\n",
              "\n",
              "function _uploadFiles(inputId, outputId) {\n",
              "  const steps = uploadFilesStep(inputId, outputId);\n",
              "  const outputElement = document.getElementById(outputId);\n",
              "  // Cache steps on the outputElement to make it available for the next call\n",
              "  // to uploadFilesContinue from Python.\n",
              "  outputElement.steps = steps;\n",
              "\n",
              "  return _uploadFilesContinue(outputId);\n",
              "}\n",
              "\n",
              "// This is roughly an async generator (not supported in the browser yet),\n",
              "// where there are multiple asynchronous steps and the Python side is going\n",
              "// to poll for completion of each step.\n",
              "// This uses a Promise to block the python side on completion of each step,\n",
              "// then passes the result of the previous step as the input to the next step.\n",
              "function _uploadFilesContinue(outputId) {\n",
              "  const outputElement = document.getElementById(outputId);\n",
              "  const steps = outputElement.steps;\n",
              "\n",
              "  const next = steps.next(outputElement.lastPromiseValue);\n",
              "  return Promise.resolve(next.value.promise).then((value) => {\n",
              "    // Cache the last promise value to make it available to the next\n",
              "    // step of the generator.\n",
              "    outputElement.lastPromiseValue = value;\n",
              "    return next.value.response;\n",
              "  });\n",
              "}\n",
              "\n",
              "/**\n",
              " * Generator function which is called between each async step of the upload\n",
              " * process.\n",
              " * @param {string} inputId Element ID of the input file picker element.\n",
              " * @param {string} outputId Element ID of the output display.\n",
              " * @return {!Iterable<!Object>} Iterable of next steps.\n",
              " */\n",
              "function* uploadFilesStep(inputId, outputId) {\n",
              "  const inputElement = document.getElementById(inputId);\n",
              "  inputElement.disabled = false;\n",
              "\n",
              "  const outputElement = document.getElementById(outputId);\n",
              "  outputElement.innerHTML = '';\n",
              "\n",
              "  const pickedPromise = new Promise((resolve) => {\n",
              "    inputElement.addEventListener('change', (e) => {\n",
              "      resolve(e.target.files);\n",
              "    });\n",
              "  });\n",
              "\n",
              "  const cancel = document.createElement('button');\n",
              "  inputElement.parentElement.appendChild(cancel);\n",
              "  cancel.textContent = 'Cancel upload';\n",
              "  const cancelPromise = new Promise((resolve) => {\n",
              "    cancel.onclick = () => {\n",
              "      resolve(null);\n",
              "    };\n",
              "  });\n",
              "\n",
              "  // Wait for the user to pick the files.\n",
              "  const files = yield {\n",
              "    promise: Promise.race([pickedPromise, cancelPromise]),\n",
              "    response: {\n",
              "      action: 'starting',\n",
              "    }\n",
              "  };\n",
              "\n",
              "  cancel.remove();\n",
              "\n",
              "  // Disable the input element since further picks are not allowed.\n",
              "  inputElement.disabled = true;\n",
              "\n",
              "  if (!files) {\n",
              "    return {\n",
              "      response: {\n",
              "        action: 'complete',\n",
              "      }\n",
              "    };\n",
              "  }\n",
              "\n",
              "  for (const file of files) {\n",
              "    const li = document.createElement('li');\n",
              "    li.append(span(file.name, {fontWeight: 'bold'}));\n",
              "    li.append(span(\n",
              "        `(${file.type || 'n/a'}) - ${file.size} bytes, ` +\n",
              "        `last modified: ${\n",
              "            file.lastModifiedDate ? file.lastModifiedDate.toLocaleDateString() :\n",
              "                                    'n/a'} - `));\n",
              "    const percent = span('0% done');\n",
              "    li.appendChild(percent);\n",
              "\n",
              "    outputElement.appendChild(li);\n",
              "\n",
              "    const fileDataPromise = new Promise((resolve) => {\n",
              "      const reader = new FileReader();\n",
              "      reader.onload = (e) => {\n",
              "        resolve(e.target.result);\n",
              "      };\n",
              "      reader.readAsArrayBuffer(file);\n",
              "    });\n",
              "    // Wait for the data to be ready.\n",
              "    let fileData = yield {\n",
              "      promise: fileDataPromise,\n",
              "      response: {\n",
              "        action: 'continue',\n",
              "      }\n",
              "    };\n",
              "\n",
              "    // Use a chunked sending to avoid message size limits. See b/62115660.\n",
              "    let position = 0;\n",
              "    do {\n",
              "      const length = Math.min(fileData.byteLength - position, MAX_PAYLOAD_SIZE);\n",
              "      const chunk = new Uint8Array(fileData, position, length);\n",
              "      position += length;\n",
              "\n",
              "      const base64 = btoa(String.fromCharCode.apply(null, chunk));\n",
              "      yield {\n",
              "        response: {\n",
              "          action: 'append',\n",
              "          file: file.name,\n",
              "          data: base64,\n",
              "        },\n",
              "      };\n",
              "\n",
              "      let percentDone = fileData.byteLength === 0 ?\n",
              "          100 :\n",
              "          Math.round((position / fileData.byteLength) * 100);\n",
              "      percent.textContent = `${percentDone}% done`;\n",
              "\n",
              "    } while (position < fileData.byteLength);\n",
              "  }\n",
              "\n",
              "  // All done.\n",
              "  yield {\n",
              "    response: {\n",
              "      action: 'complete',\n",
              "    }\n",
              "  };\n",
              "}\n",
              "\n",
              "scope.google = scope.google || {};\n",
              "scope.google.colab = scope.google.colab || {};\n",
              "scope.google.colab._files = {\n",
              "  _uploadFiles,\n",
              "  _uploadFilesContinue,\n",
              "};\n",
              "})(self);\n",
              "</script> "
            ]
          },
          "metadata": {}
        },
        {
          "output_type": "stream",
          "name": "stdout",
          "text": [
            "Saving kaggle.json to kaggle.json\n",
            "User uploaded file \"kaggle.json\"\n"
          ]
        }
      ]
    },
    {
      "cell_type": "code",
      "source": [
        "!mkdir ~/.kaggle\n",
        "!mv kaggle.json ~/.kaggle/\n",
        "!chmod 600 ~/.kaggle/kaggle.json"
      ],
      "metadata": {
        "id": "IO16qKS2Rd8v",
        "colab": {
          "base_uri": "https://localhost:8080/"
        },
        "outputId": "aacec436-b724-4733-b4ff-c1befb996a44"
      },
      "execution_count": 8,
      "outputs": [
        {
          "output_type": "stream",
          "name": "stdout",
          "text": [
            "mkdir: cannot create directory ‘/root/.kaggle’: File exists\n"
          ]
        }
      ]
    },
    {
      "cell_type": "markdown",
      "source": [
        "#Import Libraries"
      ],
      "metadata": {
        "id": "6U8t71fdXqdA"
      }
    },
    {
      "cell_type": "code",
      "execution_count": 6,
      "metadata": {
        "id": "wh0LRKoUZ5JX"
      },
      "outputs": [],
      "source": [
        "import os\n",
        "import numpy as np\n",
        "import tensorflow as tf\n",
        "import matplotlib.pyplot as plt\n",
        "import seaborn as sns"
      ]
    },
    {
      "cell_type": "markdown",
      "source": [
        "#Data Acquisition\n",
        "\n",
        "menggunakan data animals10 dari kaggle"
      ],
      "metadata": {
        "id": "PJyENymQXXr7"
      }
    },
    {
      "cell_type": "code",
      "source": [
        "!kaggle datasets download -d alessiocorrado99/animals10"
      ],
      "metadata": {
        "id": "SU-mIRqUTtVs"
      },
      "execution_count": null,
      "outputs": []
    },
    {
      "cell_type": "code",
      "source": [
        "!unzip -qq animals10.zip -d \"animals10\""
      ],
      "metadata": {
        "id": "SJ7IDa1ZUoPb"
      },
      "execution_count": null,
      "outputs": []
    },
    {
      "cell_type": "code",
      "source": [
        "base_dir = \"/content/animals10/raw-img\""
      ],
      "metadata": {
        "id": "S8TyEVSS_I--"
      },
      "execution_count": null,
      "outputs": []
    },
    {
      "cell_type": "code",
      "source": [
        "print(os.listdir(base_dir))"
      ],
      "metadata": {
        "id": "XfS26MHW_a6v"
      },
      "execution_count": null,
      "outputs": []
    },
    {
      "cell_type": "markdown",
      "source": [
        "###Rename Folder"
      ],
      "metadata": {
        "id": "5-tQ9A9Sx1KZ"
      }
    },
    {
      "cell_type": "code",
      "source": [
        "from pathlib import Path\n",
        "import shutil\n",
        "\n",
        "\n",
        "folder_names = os.listdir(base_dir)\n",
        "\n",
        "def rename_folder(current_name: str,\n",
        "                  new_name: str,\n",
        "                  path: Path) -> None:\n",
        "    os.rename(os.path.join(path, current_name), os.path.join(path, new_name))\n",
        "\n",
        "for folder in folder_names:\n",
        "    current_folder = base_dir\n",
        "\n",
        "    try:\n",
        "        if folder == \"cane\":\n",
        "            rename_folder(folder, \"dog\", current_folder)\n",
        "        elif folder == \"cavallo\":\n",
        "            rename_folder(folder, \"horse\", current_folder)\n",
        "        elif folder == \"elefante\":\n",
        "            rename_folder(folder, \"elephant\", current_folder)\n",
        "        elif folder == \"farfalla\":\n",
        "            rename_folder(folder, \"butterfly\", current_folder)\n",
        "        elif folder == \"gallina\":\n",
        "            rename_folder(folder, \"chicken\", current_folder)\n",
        "        elif folder == \"gatto\":\n",
        "            rename_folder(folder, \"cat\", current_folder)\n",
        "        elif folder == \"mucca\":\n",
        "            rename_folder(folder, \"cow\", current_folder)\n",
        "        elif folder == \"pecora\":\n",
        "            rename_folder(folder, \"sheep\", current_folder)\n",
        "        elif folder == \"ragno\":\n",
        "            rename_folder(folder, \"spider\", current_folder)\n",
        "        elif folder == \"scoiattolo\":\n",
        "            rename_folder(folder, \"squirrel\", current_folder)\n",
        "    except Exception:\n",
        "        shutil.rmtree(current_folder +\"/\"+ folder)\n",
        "print(\"Folders renamed.\")"
      ],
      "metadata": {
        "id": "Yj4qqLP3AMSn"
      },
      "execution_count": null,
      "outputs": []
    },
    {
      "cell_type": "code",
      "source": [
        "print(os.listdir(base_dir))"
      ],
      "metadata": {
        "id": "Ml7b8eJHXT7Z"
      },
      "execution_count": null,
      "outputs": []
    },
    {
      "cell_type": "markdown",
      "source": [
        "##Data Understanding"
      ],
      "metadata": {
        "id": "9U9yXuFGXaCD"
      }
    },
    {
      "cell_type": "markdown",
      "source": [
        "Cek jumlah gambar"
      ],
      "metadata": {
        "id": "O8qzLtPyaT5b"
      }
    },
    {
      "cell_type": "code",
      "source": [
        "number_label = {}\n",
        "total_files = 0\n",
        "for i in os.listdir(base_dir):\n",
        "    counting = len(os.listdir(os.path.join(base_dir, i)))\n",
        "    number_label[i] = counting\n",
        "    total_files += counting\n",
        "\n",
        "print(\"Total Files : \" + str(total_files))"
      ],
      "metadata": {
        "id": "wiXUsWqbXZkF"
      },
      "execution_count": null,
      "outputs": []
    },
    {
      "cell_type": "markdown",
      "source": [
        "Cek persebaran jumlah gambar setiap kelas data"
      ],
      "metadata": {
        "id": "bBl-mKdtag9h"
      }
    },
    {
      "cell_type": "code",
      "source": [
        "plt.bar(number_label.keys(), number_label.values());\n",
        "plt.title(\"Jumlah Gambar per Kelas\");"
      ],
      "metadata": {
        "id": "mh-gWk5ZapMy",
        "colab": {
          "base_uri": "https://localhost:8080/",
          "height": 183
        },
        "outputId": "f64805cb-591b-4f0a-bc4a-cf0640667618"
      },
      "execution_count": 1,
      "outputs": [
        {
          "output_type": "error",
          "ename": "NameError",
          "evalue": "ignored",
          "traceback": [
            "\u001b[0;31m---------------------------------------------------------------------------\u001b[0m",
            "\u001b[0;31mNameError\u001b[0m                                 Traceback (most recent call last)",
            "\u001b[0;32m<ipython-input-1-aff16a886842>\u001b[0m in \u001b[0;36m<module>\u001b[0;34m\u001b[0m\n\u001b[0;32m----> 1\u001b[0;31m \u001b[0mplt\u001b[0m\u001b[0;34m.\u001b[0m\u001b[0mbar\u001b[0m\u001b[0;34m(\u001b[0m\u001b[0mnumber_label\u001b[0m\u001b[0;34m.\u001b[0m\u001b[0mkeys\u001b[0m\u001b[0;34m(\u001b[0m\u001b[0;34m)\u001b[0m\u001b[0;34m,\u001b[0m \u001b[0mnumber_label\u001b[0m\u001b[0;34m.\u001b[0m\u001b[0mvalues\u001b[0m\u001b[0;34m(\u001b[0m\u001b[0;34m)\u001b[0m\u001b[0;34m)\u001b[0m\u001b[0;34m;\u001b[0m\u001b[0;34m\u001b[0m\u001b[0;34m\u001b[0m\u001b[0m\n\u001b[0m\u001b[1;32m      2\u001b[0m \u001b[0mplt\u001b[0m\u001b[0;34m.\u001b[0m\u001b[0mtitle\u001b[0m\u001b[0;34m(\u001b[0m\u001b[0;34m\"Jumlah Gambar per Kelas\"\u001b[0m\u001b[0;34m)\u001b[0m\u001b[0;34m;\u001b[0m\u001b[0;34m\u001b[0m\u001b[0;34m\u001b[0m\u001b[0m\n",
            "\u001b[0;31mNameError\u001b[0m: name 'plt' is not defined"
          ]
        }
      ]
    },
    {
      "cell_type": "markdown",
      "source": [
        "Tampilkan sampel gambar untuk mengetahui ukurannya"
      ],
      "metadata": {
        "id": "uJ-z3_6YbFNL"
      }
    },
    {
      "cell_type": "code",
      "source": [
        "import matplotlib.image as mpimg\n",
        "\n",
        "img_each_class = 1\n",
        "img_samples = {}\n",
        "classes = list(number_label.keys())\n",
        "\n",
        "\n",
        "for c in classes:\n",
        "    temp = os.listdir(os.path.join(base_dir, c))[:img_each_class]\n",
        "    for item in temp:\n",
        "        img_path = os.path.join(base_dir, c, item)\n",
        "        img_samples[c] = img_path\n",
        "\n",
        "for i in img_samples:\n",
        "    fig = plt.gcf()\n",
        "    img = mpimg.imread(img_samples[i])\n",
        "    plt.title(i)\n",
        "    plt.imshow(img)\n",
        "    plt.show()"
      ],
      "metadata": {
        "id": "HzBUzdLXb6vw"
      },
      "execution_count": null,
      "outputs": []
    },
    {
      "cell_type": "markdown",
      "source": [
        "ukuran gambar bervariasi"
      ],
      "metadata": {
        "id": "_4PaJWSShxHv"
      }
    },
    {
      "cell_type": "markdown",
      "source": [
        "###Split Folder: Train and Validation Folder"
      ],
      "metadata": {
        "id": "Ot-DhYMKx4_Q"
      }
    },
    {
      "cell_type": "code",
      "source": [
        "!pip install split-folders"
      ],
      "metadata": {
        "id": "sbFjQbKNwN_f"
      },
      "execution_count": null,
      "outputs": []
    },
    {
      "cell_type": "code",
      "source": [
        "import splitfolders\n",
        "input_folder = base_dir\n",
        "\n",
        "splitfolders.ratio(\n",
        "    input_folder,\n",
        "    output= \"/content/animals10/dataset\",\n",
        "    seed=9,\n",
        "    ratio=(0.8, 0.2),\n",
        "    move=True,\n",
        "    group_prefix=None\n",
        ")\n",
        "print(\"Moving files finished.\")\n",
        "\n",
        "os.listdir(input_folder)\n",
        "\n",
        "for i in os.listdir(input_folder):\n",
        "    if len(os.listdir(input_folder+\"/\"+ i)) == 0:\n",
        "        os.rmdir(input_folder+\"/\"+ i)\n",
        "print(\"Empty folders deleted.\")"
      ],
      "metadata": {
        "id": "ZylX4zvHwL0F"
      },
      "execution_count": null,
      "outputs": []
    },
    {
      "cell_type": "code",
      "source": [
        "train_dir = \"/content/animals10/dataset/train\"\n",
        "valid_dir = \"/content/animals10/dataset/val\""
      ],
      "metadata": {
        "id": "WMcZEU8FyARI"
      },
      "execution_count": null,
      "outputs": []
    },
    {
      "cell_type": "markdown",
      "source": [
        "#Data Prepraration and Augmentation"
      ],
      "metadata": {
        "id": "onM5QTxdZxOv"
      }
    },
    {
      "cell_type": "code",
      "source": [
        "IMAGE_SIZE = (224, 224)\n",
        "IMAGE_SHAPE = (IMAGE_SIZE[0],IMAGE_SIZE[0],3)\n",
        "BATCH_SIZE = 32\n",
        "SEED = 999"
      ],
      "metadata": {
        "id": "FtpbbLDiGpPY"
      },
      "execution_count": null,
      "outputs": []
    },
    {
      "cell_type": "code",
      "source": [
        "train_datagen = tf.keras.preprocessing.image.ImageDataGenerator(\n",
        "    horizontal_flip=True,\n",
        "    rescale = (1./255)\n",
        "    )\n",
        "\n",
        "valid_datagen = tf.keras.preprocessing.image.ImageDataGenerator(\n",
        "    rescale = (1./255)\n",
        "    )"
      ],
      "metadata": {
        "id": "yi-3V9vXCJMt"
      },
      "execution_count": null,
      "outputs": []
    },
    {
      "cell_type": "code",
      "source": [
        "train_data = train_datagen.flow_from_directory(\n",
        "    train_dir,\n",
        "    class_mode='categorical',\n",
        "    target_size=(IMAGE_SIZE[0],IMAGE_SIZE[0]),\n",
        "    batch_size=BATCH_SIZE,\n",
        "    seed=SEED\n",
        ")\n",
        "\n",
        "valid_data = valid_datagen.flow_from_directory(\n",
        "    valid_dir,\n",
        "    class_mode='categorical',\n",
        "    target_size=(IMAGE_SIZE[0],IMAGE_SIZE[0]),\n",
        "    batch_size=BATCH_SIZE,\n",
        "    seed=SEED\n",
        ")"
      ],
      "metadata": {
        "id": "umc_c_aDEAuf"
      },
      "execution_count": null,
      "outputs": []
    },
    {
      "cell_type": "markdown",
      "source": [
        "#Callback Function"
      ],
      "metadata": {
        "id": "p73ixJqBWtcz"
      }
    },
    {
      "cell_type": "code",
      "source": [
        "class myCallback(tf.keras.callbacks.Callback):\n",
        "  def on_epoch_end(self, epoch, logs={}):\n",
        "    if(logs.get('accuracy')> 0.92 and logs.get('val_accuracy') > 0.92 ):\n",
        "      print(\"\\nTrain Accruracy and Validation Accuracy Was Reach > 92%!\")\n",
        "      self.model.stop_training = True\n",
        "callbacks = myCallback()"
      ],
      "metadata": {
        "id": "qLuc9Rqt2iNO"
      },
      "execution_count": null,
      "outputs": []
    },
    {
      "cell_type": "markdown",
      "source": [
        "#Accuracy Plot Function"
      ],
      "metadata": {
        "id": "mEoJ4PoPX5gX"
      }
    },
    {
      "cell_type": "code",
      "source": [
        "def acc_loss_plot(acc, val_acc, loss, val_loss):\n",
        "  fig, ax = plt.subplots(nrows = 1, ncols = 2, figsize = (19,7))\n",
        "  sns.set_style(\"darkgrid\")\n",
        "\n",
        "  ax[0].plot(acc, 'o-',label = 'Training accuracy')\n",
        "  ax[0].plot(val_acc, 'o-',label = 'Validation accuracy')\n",
        "  ax[0].set_xlabel('Epochs')\n",
        "  ax[0].set_ylabel('Accuracy')\n",
        "  ax[0].set_title('Training Accuracy vs Epochs', fontsize = 17)\n",
        "  ax[0].legend(loc='best')\n",
        "\n",
        "\n",
        "  ax[1].plot(loss, 'o-',label = 'Training loss')\n",
        "  ax[1].plot(val_loss, 'o-',label = 'Validation loss')\n",
        "  ax[1].set_xlabel('Epochs')\n",
        "  ax[1].set_ylabel('loss')\n",
        "  ax[1].set_title('Loss vs. Epochs', fontsize = 17)\n",
        "  ax[1].legend(loc='best')\n",
        "  sns.set_style(\"darkgrid\")"
      ],
      "metadata": {
        "id": "obfekLLRX-mX"
      },
      "execution_count": null,
      "outputs": []
    },
    {
      "cell_type": "markdown",
      "source": [
        "#Model Design\n"
      ],
      "metadata": {
        "id": "mbdJEPMKkpaY"
      }
    },
    {
      "cell_type": "markdown",
      "source": [
        "\n",
        "##1.CNN"
      ],
      "metadata": {
        "id": "bUVYxOq8RBir"
      }
    },
    {
      "cell_type": "code",
      "source": [
        "cnn_model = tf.keras.models.Sequential([\n",
        "    tf.keras.layers.Conv2D(32, (3,3), activation='relu', input_shape=IMAGE_SHAPE),\n",
        "    tf.keras.layers.MaxPooling2D(2,2),\n",
        "    tf.keras.layers.Conv2D(64, (3,3), activation='relu'),\n",
        "    tf.keras.layers.Conv2D(64, (3,3), activation='relu'),\n",
        "    tf.keras.layers.MaxPooling2D(2,2),\n",
        "    tf.keras.layers.Conv2D(128, (3,3), activation='relu'),\n",
        "    tf.keras.layers.Conv2D(128, (3,3), activation='relu'),\n",
        "    tf.keras.layers.MaxPooling2D(2,2),\n",
        "    tf.keras.layers.Conv2D(256, (3,3), activation='relu'),\n",
        "    tf.keras.layers.Conv2D(256, (3,3), activation='relu'),\n",
        "    tf.keras.layers.MaxPooling2D(2,2),\n",
        "    tf.keras.layers.Flatten(),\n",
        "    tf.keras.layers.Dense(128, activation='relu'),\n",
        "    tf.keras.layers.Dropout(0.25),\n",
        "    tf.keras.layers.Dense(128, activation='relu'),\n",
        "    tf.keras.layers.Dropout(0.25),\n",
        "    tf.keras.layers.Dense(10, activation='softmax')\n",
        "])"
      ],
      "metadata": {
        "id": "Hw7c-iZ0ti2t"
      },
      "execution_count": null,
      "outputs": []
    },
    {
      "cell_type": "code",
      "source": [
        "cnn_model.compile(\n",
        "    loss=tf.keras.losses.CategoricalCrossentropy(),\n",
        "    optimizer=tf.keras.optimizers.Adamax(),\n",
        "    metrics=['accuracy']\n",
        "  )"
      ],
      "metadata": {
        "id": "S1CTpm7N17uc"
      },
      "execution_count": null,
      "outputs": []
    },
    {
      "cell_type": "code",
      "source": [
        "cnn_model.summary()"
      ],
      "metadata": {
        "id": "SHYhTV002MAM"
      },
      "execution_count": null,
      "outputs": []
    },
    {
      "cell_type": "markdown",
      "source": [
        "###CNN Train"
      ],
      "metadata": {
        "id": "0cjI7PR2rHjt"
      }
    },
    {
      "cell_type": "code",
      "source": [
        "cnn_hist = cnn_model.fit(\n",
        "    train_data,\n",
        "    epochs=25,\n",
        "    steps_per_epoch=50,\n",
        "    validation_data=valid_data,\n",
        "    callbacks=[callbacks]\n",
        "    )"
      ],
      "metadata": {
        "id": "n4Wpoa-F2k8O"
      },
      "execution_count": null,
      "outputs": []
    },
    {
      "cell_type": "code",
      "source": [
        "acc = cnn_hist.history['accuracy']\n",
        "val_acc = cnn_hist.history['val_accuracy']\n",
        "loss = cnn_hist.history['loss']\n",
        "val_loss = cnn_hist.history['val_loss']\n",
        "\n",
        "acc_loss_plot(acc, val_acc, loss, val_loss)"
      ],
      "metadata": {
        "id": "yS85Csfj-qLy"
      },
      "execution_count": null,
      "outputs": []
    },
    {
      "cell_type": "markdown",
      "source": [
        "##2.VGG16"
      ],
      "metadata": {
        "id": "RQ-qnDFB2cgZ"
      }
    },
    {
      "cell_type": "code",
      "source": [
        "base_vgg_model = tf.keras.applications.VGG16(\n",
        "    weights=\"imagenet\",\n",
        "    include_top=False,\n",
        "    input_shape=IMAGE_SHAPE)\n",
        "\n",
        "base_vgg_model.trainable = False\n",
        "\n",
        "vgg_preprocess = tf.keras.applications.vgg16.preprocess_input\n",
        "train_data.preprocessing_function = vgg_preprocess"
      ],
      "metadata": {
        "id": "pXNSC0HKQ0a5"
      },
      "execution_count": null,
      "outputs": []
    },
    {
      "cell_type": "code",
      "source": [
        "base_vgg_model.summary()"
      ],
      "metadata": {
        "id": "O-Rs6GVkhw2-"
      },
      "execution_count": null,
      "outputs": []
    },
    {
      "cell_type": "code",
      "source": [
        "vgg_model = tf.keras.models.Sequential([\n",
        "    base_vgg_model,\n",
        "    tf.keras.layers.Flatten(),\n",
        "    tf.keras.layers.Dense(256, activation='relu'),\n",
        "    tf.keras.layers.Dropout(0.25),\n",
        "    tf.keras.layers.Dense(256, activation='relu'),\n",
        "    tf.keras.layers.Dropout(0.25),\n",
        "    tf.keras.layers.Dense(10, activation='softmax')\n",
        "])"
      ],
      "metadata": {
        "id": "A_vDHuDNRiNX"
      },
      "execution_count": null,
      "outputs": []
    },
    {
      "cell_type": "code",
      "source": [
        "vgg_model.compile(\n",
        "    loss=tf.keras.losses.CategoricalCrossentropy(),\n",
        "    optimizer=tf.keras.optimizers.Adamax(),\n",
        "    metrics=['accuracy']\n",
        "  )"
      ],
      "metadata": {
        "id": "v72Hw9ibToio"
      },
      "execution_count": null,
      "outputs": []
    },
    {
      "cell_type": "code",
      "source": [
        "vgg_model.summary()"
      ],
      "metadata": {
        "id": "yjLJiGsDT204"
      },
      "execution_count": null,
      "outputs": []
    },
    {
      "cell_type": "markdown",
      "source": [
        "###VGG16 Train"
      ],
      "metadata": {
        "id": "Dl6lsj7LrzuR"
      }
    },
    {
      "cell_type": "code",
      "source": [
        "vgg_hist = vgg_model.fit(\n",
        "    train_data,\n",
        "    epochs=32,\n",
        "    validation_data=valid_data,\n",
        "    validation_split=0.1,\n",
        "    callbacks=[callbacks]\n",
        "    )"
      ],
      "metadata": {
        "id": "bm7tg0gwWDKR"
      },
      "execution_count": null,
      "outputs": []
    },
    {
      "cell_type": "code",
      "source": [
        "acc = vgg_hist.history['accuracy']\n",
        "val_acc = vgg_hist.history['val_accuracy']\n",
        "loss = vgg_hist.history['loss']\n",
        "val_loss = vgg_hist.history['val_loss']\n",
        "\n",
        "acc_loss_plot(acc, val_acc, loss, val_loss)"
      ],
      "metadata": {
        "id": "uOQWLZ3sXqqA"
      },
      "execution_count": null,
      "outputs": []
    },
    {
      "cell_type": "markdown",
      "source": [
        "##3.EffecientNetV2B1"
      ],
      "metadata": {
        "id": "Ck5KKynzZddM"
      }
    },
    {
      "cell_type": "code",
      "source": [
        "base_env2_model = tf.keras.applications.EfficientNetV2B1(\n",
        "    weights=\"imagenet\",\n",
        "    include_top=False,\n",
        "    input_shape=IMAGE_SHAPE)\n",
        "\n",
        "base_env2_model.trainable = False\n",
        "\n",
        "env2_preprocess = tf.keras.applications.efficientnet_v2.preprocess_input\n",
        "train_data.preprocessing_function = env2_preprocess"
      ],
      "metadata": {
        "id": "StOPxeeuZi9h"
      },
      "execution_count": null,
      "outputs": []
    },
    {
      "cell_type": "code",
      "source": [
        "base_env2_model.summary()"
      ],
      "metadata": {
        "id": "saEUjJGmgeQK"
      },
      "execution_count": null,
      "outputs": []
    },
    {
      "cell_type": "code",
      "source": [
        "env2_model = tf.keras.models.Sequential([\n",
        "    base_env2_model,\n",
        "    tf.keras.layers.MaxPool2D(2,2),\n",
        "    tf.keras.layers.Flatten(),\n",
        "    tf.keras.layers.Dense(512, activation='relu'),\n",
        "    tf.keras.layers.Dropout(0.25),\n",
        "    tf.keras.layers.Dense(10, activation='softmax')\n",
        "])"
      ],
      "metadata": {
        "id": "7qClg8djdz6z"
      },
      "execution_count": null,
      "outputs": []
    },
    {
      "cell_type": "code",
      "source": [
        "env2_model.compile(\n",
        "    loss=tf.keras.losses.CategoricalCrossentropy(),\n",
        "    optimizer=tf.keras.optimizers.Adam(learning_rate=0.0001),\n",
        "    metrics=['accuracy']\n",
        "  )"
      ],
      "metadata": {
        "id": "9lALwt4ogRGX"
      },
      "execution_count": null,
      "outputs": []
    },
    {
      "cell_type": "code",
      "source": [
        "env2_model.summary()"
      ],
      "metadata": {
        "id": "SwC9EL4ogVWf"
      },
      "execution_count": null,
      "outputs": []
    },
    {
      "cell_type": "markdown",
      "source": [
        "###EffecientNetV2 Train"
      ],
      "metadata": {
        "id": "Ly3VpOxnr-IU"
      }
    },
    {
      "cell_type": "code",
      "source": [
        "env2_hist = env2_model.fit(\n",
        "    train_data,\n",
        "    epochs=20,\n",
        "    steps_per_epoch=50,\n",
        "    validation_data=valid_data,\n",
        "    validation_split=0.1,\n",
        "    callbacks=[callbacks]\n",
        "    )"
      ],
      "metadata": {
        "id": "MMstHD6Er6lg"
      },
      "execution_count": null,
      "outputs": []
    },
    {
      "cell_type": "code",
      "source": [
        "acc = env2_hist.history['accuracy']\n",
        "val_acc = env2_hist.history['val_accuracy']\n",
        "loss = env2_hist.history['loss']\n",
        "val_loss = env2_hist.history['val_loss']\n",
        "\n",
        "acc_loss_plot(acc, val_acc, loss, val_loss)"
      ],
      "metadata": {
        "id": "YyEmfjmnshE5"
      },
      "execution_count": null,
      "outputs": []
    }
  ]
}